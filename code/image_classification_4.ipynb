{
 "cells": [
  {
   "cell_type": "code",
   "execution_count": 1,
   "metadata": {},
   "outputs": [],
   "source": [
    "EPOCH_NUMBER = 100\n",
    "LEARNING_RATE = 0.01\n",
    "TENSOR_SIZE = 128\n",
    "BATCH_SIZE = 32"
   ]
  },
  {
   "cell_type": "code",
   "execution_count": 2,
   "metadata": {},
   "outputs": [
    {
     "name": "stdout",
     "output_type": "stream",
     "text": [
      "Training set class distribution: [33, 82, 33, 78, 47, 46, 42, 39]\n",
      "Validation set class distribution: [15, 32, 10, 35, 17, 17, 18, 16]\n",
      "Test set class distribution: [24, 54, 33, 39, 21, 23, 15, 20]\n"
     ]
    }
   ],
   "source": [
    "import os\n",
    "import matplotlib\n",
    "import matplotlib.pyplot as plt\n",
    "\n",
    "%matplotlib inline\n",
    "\n",
    "dataset_path = './Micro_Organism'\n",
    "\n",
    "from torchvision.datasets import ImageFolder\n",
    "from torchvision.transforms import ToTensor, Resize, Compose, Normalize, RandomHorizontalFlip, RandomRotation, RandomVerticalFlip, ColorJitter\n",
    "\n",
    "transform = Compose([\n",
    "    Resize((TENSOR_SIZE, TENSOR_SIZE)),\n",
    "    ToTensor(),\n",
    "    RandomRotation(degrees=30), # new here\n",
    "    RandomHorizontalFlip(), # new here\n",
    "    RandomVerticalFlip(), # new here\n",
    "    ColorJitter(brightness=0.1, contrast=0.1, saturation=0.1, hue=0.1), # new here\n",
    "    Normalize(mean=[0.485, 0.456, 0.406], std=[0.229, 0.224, 0.225])\n",
    "])\n",
    "\n",
    "dataset = ImageFolder(dataset_path, transform=transform)\n",
    "\n",
    "import torch\n",
    "from torch.utils.data import random_split\n",
    "\n",
    "torch.manual_seed(42)\n",
    "train_size = 400\n",
    "val_size = 160\n",
    "test_size = len(dataset) - (train_size + val_size)\n",
    "\n",
    "train_dataset, validation_dataset, test_dataset = random_split(dataset, [train_size, val_size, test_size])\n",
    "\n",
    "def count_labels(dataset_subset, dataset_targets, num_classes):\n",
    "    indices = dataset_subset.indices\n",
    "    labels = [dataset_targets[i] for i in indices]\n",
    "    counts = [labels.count(i) for i in range(num_classes)]\n",
    "    return counts\n",
    "\n",
    "num_classes = 8\n",
    "\n",
    "labels = dataset.targets\n",
    "\n",
    "train_counts = count_labels(train_dataset, labels, num_classes)\n",
    "val_counts = count_labels(validation_dataset, labels, num_classes)\n",
    "test_counts = count_labels(test_dataset, labels, num_classes)\n",
    "\n",
    "print(\"Training set class distribution:\", train_counts)\n",
    "print(\"Validation set class distribution:\", val_counts)\n",
    "print(\"Test set class distribution:\", test_counts)"
   ]
  },
  {
   "cell_type": "code",
   "execution_count": 3,
   "metadata": {},
   "outputs": [],
   "source": [
    "from torch.utils.data.dataloader import DataLoader\n",
    "\n",
    "batch_size = BATCH_SIZE\n",
    "train_dataloader = DataLoader(train_dataset, batch_size, shuffle = True, num_workers = 4, pin_memory = True)\n",
    "validation_dataloader = DataLoader(validation_dataset, batch_size * 2, num_workers = 4, pin_memory = True)\n",
    "test_dataloader = DataLoader(test_dataset, batch_size * 2, num_workers = 4, pin_memory = True)"
   ]
  },
  {
   "cell_type": "code",
   "execution_count": 4,
   "metadata": {},
   "outputs": [],
   "source": [
    "import torch.nn as nn\n",
    "import torch.nn.functional as F\n",
    "\n",
    "class ImageClassificationModel(nn.Module):\n",
    "  def training_step(self, batch):\n",
    "    images, labels = batch\n",
    "    # Generate predictions\n",
    "    out = self(images)\n",
    "    # Calculate loss\n",
    "    loss = F.cross_entropy(out, labels)\n",
    "    return loss\n",
    "\n",
    "  def validation_step(self, batch):\n",
    "    images, labels = batch\n",
    "    out = self(images)\n",
    "    loss = F.cross_entropy(out, labels)\n",
    "    # Calculate accuracy\n",
    "    acc = accuracy(out, labels)\n",
    "    return {'validation_loss': loss.detach(), 'validation_accuracy': acc} \n",
    "\n",
    "  def validation_epoch_end(self, outputs):\n",
    "      batch_losses = [x['validation_loss'] for x in outputs]\n",
    "      # Combine losses\n",
    "      epoch_loss = torch.stack(batch_losses).mean()\n",
    "      batch_accs = [x['validation_accuracy'] for x in outputs]\n",
    "      # Combine accuracies\n",
    "      epoch_acc = torch.stack(batch_accs).mean()\n",
    "      return {'validation_loss': epoch_loss.item(), 'validation_accuracy': epoch_acc.item()}\n",
    "\n",
    "  def epoch_end(self, epoch, result):\n",
    "      train_loss, val_loss, val_acc = result['train_loss'], result['validation_loss'], result['validation_accuracy']\n",
    "      print(f\"Epoch [{epoch}/{EPOCH_NUMBER}], Training Loss: {train_loss:.4f}, Validation Loss: {val_loss:.4f}, Validation Accuracy: {val_acc:.4f}\")\n",
    "\n",
    "\n",
    "def accuracy(outputs, labels):\n",
    "  _, preds = torch.max(outputs, dim=1)\n",
    "  return torch.tensor(torch.sum(preds == labels).item() / len(preds))"
   ]
  },
  {
   "cell_type": "code",
   "execution_count": 5,
   "metadata": {},
   "outputs": [
    {
     "data": {
      "text/plain": [
       "CNNModel(\n",
       "  (network): Sequential(\n",
       "    (0): Conv2d(3, 16, kernel_size=(3, 3), stride=(1, 1), padding=(1, 1))\n",
       "    (1): ReLU()\n",
       "    (2): MaxPool2d(kernel_size=2, stride=2, padding=0, dilation=1, ceil_mode=False)\n",
       "    (3): Conv2d(16, 32, kernel_size=(3, 3), stride=(1, 1), padding=(1, 1))\n",
       "    (4): ReLU()\n",
       "    (5): Conv2d(32, 64, kernel_size=(3, 3), stride=(1, 1), padding=(1, 1))\n",
       "    (6): ReLU()\n",
       "    (7): Conv2d(64, 64, kernel_size=(3, 3), stride=(1, 1), padding=(1, 1))\n",
       "    (8): ReLU()\n",
       "    (9): Conv2d(64, 128, kernel_size=(3, 3), stride=(1, 1), padding=(1, 1))\n",
       "    (10): ReLU()\n",
       "    (11): Conv2d(128, 128, kernel_size=(3, 3), stride=(1, 1), padding=(1, 1))\n",
       "    (12): ReLU()\n",
       "    (13): Flatten(start_dim=1, end_dim=-1)\n",
       "    (14): Linear(in_features=524288, out_features=256, bias=True)\n",
       "    (15): ReLU()\n",
       "    (16): Linear(in_features=256, out_features=128, bias=True)\n",
       "    (17): ReLU()\n",
       "    (18): Linear(in_features=128, out_features=8, bias=True)\n",
       "  )\n",
       ")"
      ]
     },
     "execution_count": 5,
     "metadata": {},
     "output_type": "execute_result"
    }
   ],
   "source": [
    "class CNNModel(ImageClassificationModel):\n",
    "    def __init__(self):\n",
    "        super().__init__()\n",
    "        self.network = nn.Sequential(\n",
    "            nn.Conv2d(3, 16, kernel_size=3, padding=1),\n",
    "            nn.ReLU(),\n",
    "            nn.MaxPool2d(2, 2),\n",
    "\n",
    "            nn.Conv2d(16, 32, kernel_size=3, stride=1, padding=1),\n",
    "            nn.ReLU(),\n",
    "\n",
    "            nn.Conv2d(32, 64, kernel_size=3, stride=1, padding=1),\n",
    "            nn.ReLU(),\n",
    "\n",
    "            nn.Conv2d(64, 64, kernel_size=3, stride=1, padding=1),\n",
    "            nn.ReLU(),\n",
    "\n",
    "            nn.Conv2d(64, 128, kernel_size=3, stride=1, padding=1),\n",
    "            nn.ReLU(),\n",
    "\n",
    "            nn.Conv2d(128, 128, kernel_size=3, stride=1, padding=1),\n",
    "            nn.ReLU(),\n",
    "\n",
    "            nn.Flatten(),\n",
    "            nn.Linear(128 * int(TENSOR_SIZE / 2) * int(TENSOR_SIZE / 2), 8))\n",
    "        \n",
    "    def forward(self, xb):\n",
    "        return self.network(xb)\n",
    "\n",
    "\n",
    "model = CNNModel()\n",
    "model"
   ]
  },
  {
   "cell_type": "code",
   "execution_count": 6,
   "metadata": {},
   "outputs": [
    {
     "name": "stdout",
     "output_type": "stream",
     "text": [
      "Using CUDA\n"
     ]
    },
    {
     "data": {
      "text/plain": [
       "device(type='cuda')"
      ]
     },
     "execution_count": 6,
     "metadata": {},
     "output_type": "execute_result"
    }
   ],
   "source": [
    "def get_default_device():\n",
    "    if torch.cuda.is_available():\n",
    "        print('Using CUDA')\n",
    "        return torch.device('cuda')\n",
    "    else:\n",
    "        print('Using CPU')\n",
    "        return torch.device('cpu')\n",
    "    \n",
    "def to_device(data, device):\n",
    "    if isinstance(data, (list, tuple)):\n",
    "        return [to_device(x, device) for x in data]\n",
    "    return data.to(device, non_blocking = True)\n",
    "\n",
    "class DeviceDataloader():\n",
    "    def __init__(self, dataloader, device):\n",
    "        self.dataloader = dataloader\n",
    "        self.device = device\n",
    "\n",
    "    def __iter__(self):\n",
    "        for batch in self.dataloader:\n",
    "            yield to_device(batch, self.device)\n",
    "\n",
    "    def __len__(self):\n",
    "        return len(self.dataloader)\n",
    "    \n",
    "device = get_default_device()\n",
    "device"
   ]
  },
  {
   "cell_type": "code",
   "execution_count": 7,
   "metadata": {},
   "outputs": [],
   "source": [
    "train_dataloader = DeviceDataloader(train_dataloader,  device)\n",
    "validation_dataloader = DeviceDataloader(validation_dataloader, device)\n",
    "test_dataloader = DeviceDataloader(test_dataloader, device)"
   ]
  },
  {
   "cell_type": "code",
   "execution_count": 8,
   "metadata": {},
   "outputs": [
    {
     "data": {
      "text/plain": [
       "{'validation_loss': 2.088158130645752,\n",
       " 'validation_accuracy': 0.0572916679084301}"
      ]
     },
     "execution_count": 8,
     "metadata": {},
     "output_type": "execute_result"
    }
   ],
   "source": [
    "@torch.no_grad()\n",
    "def evaluate(model, validation_loader):\n",
    "    model.eval()\n",
    "    outputs = [model.validation_step(batch) for batch in validation_loader]\n",
    "    return model.validation_epoch_end(outputs)\n",
    "\n",
    "def fit(epochs, lr, model, train_loader, validation_loader, opt_func=torch.optim.SGD):\n",
    "    torch.cuda.empty_cache()\n",
    "    history = []\n",
    "    optimizer = opt_func(model.parameters(), lr)\n",
    "    for epoch in range(epochs):\n",
    "        # Training Phase \n",
    "        model.train()\n",
    "        train_losses = []\n",
    "        for batch in train_loader:\n",
    "            loss = model.training_step(batch)\n",
    "            train_losses.append(loss)\n",
    "            loss.backward()\n",
    "            optimizer.step()\n",
    "            optimizer.zero_grad()\n",
    "        # Validation phase\n",
    "        result = evaluate(model, validation_loader)\n",
    "        result['train_loss'] = torch.stack(train_losses).mean().item()\n",
    "        model.epoch_end(epoch, result)\n",
    "        history.append(result)\n",
    "    return history\n",
    "\n",
    "model = to_device(model, device)\n",
    "evaluate(model, validation_dataloader)"
   ]
  },
  {
   "cell_type": "code",
   "execution_count": 9,
   "metadata": {},
   "outputs": [],
   "source": [
    "num_epochs = EPOCH_NUMBER\n",
    "opt_func = torch.optim.Adam\n",
    "lr = LEARNING_RATE"
   ]
  },
  {
   "cell_type": "code",
   "execution_count": 10,
   "metadata": {},
   "outputs": [
    {
     "name": "stdout",
     "output_type": "stream",
     "text": [
      "Epoch [0/100], Training Loss: 117.6701, Validation Loss: 2.0657, Validation Accuracy: 0.2031\n",
      "Epoch [1/100], Training Loss: 2.0467, Validation Loss: 2.0184, Validation Accuracy: 0.2031\n",
      "Epoch [2/100], Training Loss: 2.0213, Validation Loss: 1.9992, Validation Accuracy: 0.2031\n",
      "Epoch [3/100], Training Loss: 2.0245, Validation Loss: 2.0006, Validation Accuracy: 0.2031\n",
      "Epoch [4/100], Training Loss: 2.0250, Validation Loss: 2.0077, Validation Accuracy: 0.2031\n",
      "Epoch [5/100], Training Loss: 2.0261, Validation Loss: 2.0012, Validation Accuracy: 0.2031\n",
      "Epoch [6/100], Training Loss: 2.0189, Validation Loss: 2.0020, Validation Accuracy: 0.2031\n",
      "Epoch [7/100], Training Loss: 2.0221, Validation Loss: 2.0024, Validation Accuracy: 0.2031\n",
      "Epoch [8/100], Training Loss: 2.0279, Validation Loss: 2.0034, Validation Accuracy: 0.2031\n",
      "Epoch [9/100], Training Loss: 2.0197, Validation Loss: 2.0020, Validation Accuracy: 0.2031\n",
      "Epoch [10/100], Training Loss: 2.0188, Validation Loss: 2.0018, Validation Accuracy: 0.2031\n",
      "Epoch [11/100], Training Loss: 2.0203, Validation Loss: 2.0002, Validation Accuracy: 0.2031\n",
      "Epoch [12/100], Training Loss: 2.0273, Validation Loss: 2.0030, Validation Accuracy: 0.2031\n",
      "Epoch [13/100], Training Loss: 2.0307, Validation Loss: 2.0042, Validation Accuracy: 0.2031\n",
      "Epoch [14/100], Training Loss: 2.0176, Validation Loss: 2.0056, Validation Accuracy: 0.2240\n",
      "Epoch [15/100], Training Loss: 2.0235, Validation Loss: 2.0021, Validation Accuracy: 0.2031\n",
      "Epoch [16/100], Training Loss: 2.0232, Validation Loss: 2.0033, Validation Accuracy: 0.2031\n",
      "Epoch [17/100], Training Loss: 2.0185, Validation Loss: 2.0021, Validation Accuracy: 0.2031\n",
      "Epoch [18/100], Training Loss: 2.0256, Validation Loss: 2.0009, Validation Accuracy: 0.2031\n",
      "Epoch [19/100], Training Loss: 2.0217, Validation Loss: 2.0035, Validation Accuracy: 0.2031\n",
      "Epoch [20/100], Training Loss: 2.0244, Validation Loss: 2.0029, Validation Accuracy: 0.2031\n",
      "Epoch [21/100], Training Loss: 2.0200, Validation Loss: 2.0056, Validation Accuracy: 0.2031\n",
      "Epoch [22/100], Training Loss: 2.0159, Validation Loss: 2.0022, Validation Accuracy: 0.2031\n",
      "Epoch [23/100], Training Loss: 2.0243, Validation Loss: 2.0040, Validation Accuracy: 0.2031\n",
      "Epoch [24/100], Training Loss: 2.0220, Validation Loss: 2.0046, Validation Accuracy: 0.2031\n",
      "Epoch [25/100], Training Loss: 2.0248, Validation Loss: 2.0000, Validation Accuracy: 0.2031\n",
      "Epoch [26/100], Training Loss: 2.0225, Validation Loss: 2.0033, Validation Accuracy: 0.2031\n",
      "Epoch [27/100], Training Loss: 2.0208, Validation Loss: 2.0062, Validation Accuracy: 0.2031\n",
      "Epoch [28/100], Training Loss: 2.0277, Validation Loss: 2.0004, Validation Accuracy: 0.2031\n",
      "Epoch [29/100], Training Loss: 2.0279, Validation Loss: 2.0011, Validation Accuracy: 0.2031\n",
      "Epoch [30/100], Training Loss: 2.0212, Validation Loss: 2.0073, Validation Accuracy: 0.2031\n",
      "Epoch [31/100], Training Loss: 2.0203, Validation Loss: 2.0027, Validation Accuracy: 0.2031\n",
      "Epoch [32/100], Training Loss: 2.0266, Validation Loss: 2.0019, Validation Accuracy: 0.2031\n",
      "Epoch [33/100], Training Loss: 2.0232, Validation Loss: 2.0007, Validation Accuracy: 0.2240\n",
      "Epoch [34/100], Training Loss: 2.0201, Validation Loss: 2.0024, Validation Accuracy: 0.2031\n",
      "Epoch [35/100], Training Loss: 2.0250, Validation Loss: 1.9990, Validation Accuracy: 0.2031\n",
      "Epoch [36/100], Training Loss: 2.0241, Validation Loss: 2.0036, Validation Accuracy: 0.2031\n",
      "Epoch [37/100], Training Loss: 2.0196, Validation Loss: 2.0024, Validation Accuracy: 0.2031\n",
      "Epoch [38/100], Training Loss: 2.0168, Validation Loss: 2.0020, Validation Accuracy: 0.2031\n",
      "Epoch [39/100], Training Loss: 2.0193, Validation Loss: 2.0007, Validation Accuracy: 0.2031\n",
      "Epoch [40/100], Training Loss: 2.0305, Validation Loss: 2.0015, Validation Accuracy: 0.2240\n",
      "Epoch [41/100], Training Loss: 2.0221, Validation Loss: 2.0063, Validation Accuracy: 0.2031\n",
      "Epoch [42/100], Training Loss: 2.0247, Validation Loss: 2.0032, Validation Accuracy: 0.2031\n",
      "Epoch [43/100], Training Loss: 2.0241, Validation Loss: 2.0022, Validation Accuracy: 0.2031\n",
      "Epoch [44/100], Training Loss: 2.0202, Validation Loss: 2.0037, Validation Accuracy: 0.2031\n",
      "Epoch [45/100], Training Loss: 2.0202, Validation Loss: 2.0032, Validation Accuracy: 0.2031\n",
      "Epoch [46/100], Training Loss: 2.0181, Validation Loss: 2.0031, Validation Accuracy: 0.2031\n",
      "Epoch [47/100], Training Loss: 2.0164, Validation Loss: 2.0023, Validation Accuracy: 0.2031\n",
      "Epoch [48/100], Training Loss: 2.0184, Validation Loss: 2.0020, Validation Accuracy: 0.2031\n",
      "Epoch [49/100], Training Loss: 2.0253, Validation Loss: 2.0012, Validation Accuracy: 0.2031\n",
      "Epoch [50/100], Training Loss: 2.0207, Validation Loss: 2.0030, Validation Accuracy: 0.2031\n",
      "Epoch [51/100], Training Loss: 2.0216, Validation Loss: 2.0025, Validation Accuracy: 0.2031\n",
      "Epoch [52/100], Training Loss: 2.0240, Validation Loss: 2.0015, Validation Accuracy: 0.2031\n",
      "Epoch [53/100], Training Loss: 2.0206, Validation Loss: 2.0019, Validation Accuracy: 0.2031\n",
      "Epoch [54/100], Training Loss: 2.0214, Validation Loss: 2.0045, Validation Accuracy: 0.2031\n",
      "Epoch [55/100], Training Loss: 2.0204, Validation Loss: 2.0010, Validation Accuracy: 0.2240\n",
      "Epoch [56/100], Training Loss: 2.0210, Validation Loss: 2.0031, Validation Accuracy: 0.2031\n",
      "Epoch [57/100], Training Loss: 2.0221, Validation Loss: 2.0008, Validation Accuracy: 0.2031\n",
      "Epoch [58/100], Training Loss: 2.0183, Validation Loss: 2.0005, Validation Accuracy: 0.2031\n",
      "Epoch [59/100], Training Loss: 2.0237, Validation Loss: 2.0018, Validation Accuracy: 0.2031\n",
      "Epoch [60/100], Training Loss: 2.0213, Validation Loss: 2.0013, Validation Accuracy: 0.2031\n",
      "Epoch [61/100], Training Loss: 2.0269, Validation Loss: 2.0033, Validation Accuracy: 0.2031\n",
      "Epoch [62/100], Training Loss: 2.0224, Validation Loss: 2.0049, Validation Accuracy: 0.2031\n",
      "Epoch [63/100], Training Loss: 2.0168, Validation Loss: 2.0024, Validation Accuracy: 0.2031\n",
      "Epoch [64/100], Training Loss: 2.0274, Validation Loss: 2.0003, Validation Accuracy: 0.2031\n",
      "Epoch [65/100], Training Loss: 2.0247, Validation Loss: 2.0007, Validation Accuracy: 0.2031\n",
      "Epoch [66/100], Training Loss: 2.0276, Validation Loss: 2.0030, Validation Accuracy: 0.2031\n",
      "Epoch [67/100], Training Loss: 2.0258, Validation Loss: 2.0013, Validation Accuracy: 0.2031\n",
      "Epoch [68/100], Training Loss: 2.0228, Validation Loss: 2.0039, Validation Accuracy: 0.2031\n",
      "Epoch [69/100], Training Loss: 2.0256, Validation Loss: 2.0035, Validation Accuracy: 0.2031\n",
      "Epoch [70/100], Training Loss: 2.0217, Validation Loss: 2.0040, Validation Accuracy: 0.2031\n",
      "Epoch [71/100], Training Loss: 2.0213, Validation Loss: 2.0018, Validation Accuracy: 0.2031\n",
      "Epoch [72/100], Training Loss: 2.0157, Validation Loss: 2.0017, Validation Accuracy: 0.2031\n",
      "Epoch [73/100], Training Loss: 2.0283, Validation Loss: 2.0032, Validation Accuracy: 0.2031\n",
      "Epoch [74/100], Training Loss: 2.0224, Validation Loss: 2.0040, Validation Accuracy: 0.2031\n",
      "Epoch [75/100], Training Loss: 2.0225, Validation Loss: 2.0030, Validation Accuracy: 0.2031\n",
      "Epoch [76/100], Training Loss: 2.0233, Validation Loss: 2.0027, Validation Accuracy: 0.2031\n",
      "Epoch [77/100], Training Loss: 2.0230, Validation Loss: 2.0016, Validation Accuracy: 0.2031\n",
      "Epoch [78/100], Training Loss: 2.0166, Validation Loss: 2.0027, Validation Accuracy: 0.2031\n",
      "Epoch [79/100], Training Loss: 2.0221, Validation Loss: 2.0031, Validation Accuracy: 0.2031\n",
      "Epoch [80/100], Training Loss: 2.0130, Validation Loss: 2.0025, Validation Accuracy: 0.2031\n",
      "Epoch [81/100], Training Loss: 2.0258, Validation Loss: 2.0004, Validation Accuracy: 0.2031\n",
      "Epoch [82/100], Training Loss: 2.0189, Validation Loss: 2.0024, Validation Accuracy: 0.2031\n",
      "Epoch [83/100], Training Loss: 2.0180, Validation Loss: 2.0023, Validation Accuracy: 0.2031\n",
      "Epoch [84/100], Training Loss: 2.0193, Validation Loss: 2.0008, Validation Accuracy: 0.2031\n",
      "Epoch [85/100], Training Loss: 2.0197, Validation Loss: 2.0028, Validation Accuracy: 0.2031\n",
      "Epoch [86/100], Training Loss: 2.0211, Validation Loss: 2.0023, Validation Accuracy: 0.2031\n",
      "Epoch [87/100], Training Loss: 2.0194, Validation Loss: 2.0026, Validation Accuracy: 0.2031\n",
      "Epoch [88/100], Training Loss: 2.0253, Validation Loss: 1.9997, Validation Accuracy: 0.2031\n",
      "Epoch [89/100], Training Loss: 2.0208, Validation Loss: 1.9999, Validation Accuracy: 0.2240\n",
      "Epoch [90/100], Training Loss: 2.0214, Validation Loss: 2.0035, Validation Accuracy: 0.2031\n",
      "Epoch [91/100], Training Loss: 2.0175, Validation Loss: 2.0026, Validation Accuracy: 0.2031\n",
      "Epoch [92/100], Training Loss: 2.0195, Validation Loss: 2.0015, Validation Accuracy: 0.2031\n",
      "Epoch [93/100], Training Loss: 2.0284, Validation Loss: 2.0030, Validation Accuracy: 0.2031\n",
      "Epoch [94/100], Training Loss: 2.0204, Validation Loss: 2.0049, Validation Accuracy: 0.2031\n",
      "Epoch [95/100], Training Loss: 2.0248, Validation Loss: 2.0023, Validation Accuracy: 0.2240\n",
      "Epoch [96/100], Training Loss: 2.0200, Validation Loss: 2.0033, Validation Accuracy: 0.2031\n",
      "Epoch [97/100], Training Loss: 2.0203, Validation Loss: 2.0008, Validation Accuracy: 0.2031\n",
      "Epoch [98/100], Training Loss: 2.0205, Validation Loss: 2.0033, Validation Accuracy: 0.2031\n",
      "Epoch [99/100], Training Loss: 2.0181, Validation Loss: 2.0027, Validation Accuracy: 0.2031\n"
     ]
    }
   ],
   "source": [
    "history = fit(num_epochs, lr, model, train_dataloader, validation_dataloader, opt_func=opt_func)"
   ]
  },
  {
   "cell_type": "code",
   "execution_count": 11,
   "metadata": {},
   "outputs": [
    {
     "data": {
      "image/png": "[encoded data removed]",
      "text/plain": [
       "<Figure size 640x480 with 1 Axes>"
      ]
     },
     "metadata": {},
     "output_type": "display_data"
    }
   ],
   "source": [
    "def plot_accuracies(history):\n",
    "    accuracies = [x['validation_accuracy'] for x in history]\n",
    "    plt.plot(accuracies, '-x')\n",
    "    plt.xlabel('epoch')\n",
    "    plt.ylabel('accuracy')\n",
    "    plt.title('Accuracy vs Number of epochs')\n",
    "\n",
    "plot_accuracies(history)"
   ]
  },
  {
   "cell_type": "code",
   "execution_count": 12,
   "metadata": {},
   "outputs": [
    {
     "data": {
      "image/png": "[encoded data removed]",
      "text/plain": [
       "<Figure size 640x480 with 1 Axes>"
      ]
     },
     "metadata": {},
     "output_type": "display_data"
    }
   ],
   "source": [
    "def plot_losses(history):\n",
    "    train_losses = [x.get('train_loss') for x in history]\n",
    "    val_losses = [x['validation_loss'] for x in history]\n",
    "    plt.plot(train_losses, '-bx')\n",
    "    plt.plot(val_losses, '-rx')\n",
    "    plt.xlabel('epoch')\n",
    "    plt.ylabel('loss')\n",
    "    plt.legend(['Training', 'Validation'])\n",
    "    plt.title('Loss vs Number of epochs')\n",
    "\n",
    "plot_losses(history)"
   ]
  },
  {
   "attachments": {},
   "cell_type": "markdown",
   "metadata": {},
   "source": [
    "After changing the **Learning Rate** to `0.01`, my model stopped learning from the training data. Since this happened with the second model, we can safely say that **0.01** is not a good learning rate for this model structure and dataset."
   ]
  }
 ],
 "metadata": {
  "kernelspec": {
   "display_name": "Python 3",
   "language": "python",
   "name": "python3"
  },
  "language_info": {
   "codemirror_mode": {
    "name": "ipython",
    "version": 3
   },
   "file_extension": ".py",
   "mimetype": "text/x-python",
   "name": "python",
   "nbconvert_exporter": "python",
   "pygments_lexer": "ipython3",
   "version": "3.10.11"
  },
  "orig_nbformat": 4
 },
 "nbformat": 4,
 "nbformat_minor": 2
}
