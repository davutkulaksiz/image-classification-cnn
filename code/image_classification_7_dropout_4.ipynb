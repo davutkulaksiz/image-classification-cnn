{
 "cells": [
  {
   "cell_type": "code",
   "execution_count": 1,
   "metadata": {},
   "outputs": [],
   "source": [
    "EPOCH_NUMBER = 100\n",
    "LEARNING_RATE = 0.001\n",
    "TENSOR_SIZE = 128\n",
    "BATCH_SIZE = 32\n",
    "dropout_rate = 0.8"
   ]
  },
  {
   "cell_type": "code",
   "execution_count": 2,
   "metadata": {},
   "outputs": [
    {
     "name": "stdout",
     "output_type": "stream",
     "text": [
      "Training set class distribution: [33, 82, 33, 78, 47, 46, 42, 39]\n",
      "Validation set class distribution: [15, 32, 10, 35, 17, 17, 18, 16]\n",
      "Test set class distribution: [24, 54, 33, 39, 21, 23, 15, 20]\n"
     ]
    }
   ],
   "source": [
    "import os\n",
    "import matplotlib\n",
    "import matplotlib.pyplot as plt\n",
    "\n",
    "%matplotlib inline\n",
    "\n",
    "dataset_path = './Micro_Organism'\n",
    "\n",
    "from torchvision.datasets import ImageFolder\n",
    "from torchvision.transforms import ToTensor, Resize, Compose, Normalize, RandomHorizontalFlip, RandomRotation, RandomVerticalFlip, ColorJitter\n",
    "\n",
    "transform = Compose([\n",
    "    Resize((TENSOR_SIZE, TENSOR_SIZE)),\n",
    "    ToTensor(),\n",
    "    RandomRotation(degrees=30), # new here\n",
    "    RandomHorizontalFlip(), # new here\n",
    "    RandomVerticalFlip(), # new here\n",
    "    ColorJitter(brightness=0.1, contrast=0.1, saturation=0.1, hue=0.1), # new here\n",
    "    Normalize(mean=[0.485, 0.456, 0.406], std=[0.229, 0.224, 0.225])\n",
    "])\n",
    "\n",
    "dataset = ImageFolder(dataset_path, transform=transform)\n",
    "\n",
    "import torch\n",
    "from torch.utils.data import random_split\n",
    "\n",
    "torch.manual_seed(42)\n",
    "train_size = 400\n",
    "val_size = 160\n",
    "test_size = len(dataset) - (train_size + val_size)\n",
    "\n",
    "train_dataset, validation_dataset, test_dataset = random_split(dataset, [train_size, val_size, test_size])\n",
    "\n",
    "def count_labels(dataset_subset, dataset_targets, num_classes):\n",
    "    indices = dataset_subset.indices\n",
    "    labels = [dataset_targets[i] for i in indices]\n",
    "    counts = [labels.count(i) for i in range(num_classes)]\n",
    "    return counts\n",
    "\n",
    "num_classes = 8\n",
    "\n",
    "labels = dataset.targets\n",
    "\n",
    "train_counts = count_labels(train_dataset, labels, num_classes)\n",
    "val_counts = count_labels(validation_dataset, labels, num_classes)\n",
    "test_counts = count_labels(test_dataset, labels, num_classes)\n",
    "\n",
    "print(\"Training set class distribution:\", train_counts)\n",
    "print(\"Validation set class distribution:\", val_counts)\n",
    "print(\"Test set class distribution:\", test_counts)"
   ]
  },
  {
   "cell_type": "code",
   "execution_count": 3,
   "metadata": {},
   "outputs": [],
   "source": [
    "from torch.utils.data.dataloader import DataLoader\n",
    "\n",
    "batch_size = BATCH_SIZE\n",
    "train_dataloader = DataLoader(train_dataset, batch_size, shuffle = True, num_workers = 4, pin_memory = True)\n",
    "validation_dataloader = DataLoader(validation_dataset, batch_size * 2, num_workers = 4, pin_memory = True)\n",
    "test_dataloader = DataLoader(test_dataset, batch_size * 2, num_workers = 4, pin_memory = True)"
   ]
  },
  {
   "cell_type": "code",
   "execution_count": 4,
   "metadata": {},
   "outputs": [],
   "source": [
    "import torch.nn as nn\n",
    "import torch.nn.functional as F\n",
    "\n",
    "class ImageClassificationModel(nn.Module):\n",
    "  def training_step(self, batch):\n",
    "    images, labels = batch\n",
    "    # Generate predictions\n",
    "    out = self(images)\n",
    "    # Calculate loss\n",
    "    loss = F.cross_entropy(out, labels)\n",
    "    return loss\n",
    "\n",
    "  def validation_step(self, batch):\n",
    "    images, labels = batch\n",
    "    out = self(images)\n",
    "    loss = F.cross_entropy(out, labels)\n",
    "    # Calculate accuracy\n",
    "    acc = accuracy(out, labels)\n",
    "    return {'validation_loss': loss.detach(), 'validation_accuracy': acc} \n",
    "\n",
    "  def validation_epoch_end(self, outputs):\n",
    "      batch_losses = [x['validation_loss'] for x in outputs]\n",
    "      # Combine losses\n",
    "      epoch_loss = torch.stack(batch_losses).mean()\n",
    "      batch_accs = [x['validation_accuracy'] for x in outputs]\n",
    "      # Combine accuracies\n",
    "      epoch_acc = torch.stack(batch_accs).mean()\n",
    "      return {'validation_loss': epoch_loss.item(), 'validation_accuracy': epoch_acc.item()}\n",
    "\n",
    "  def epoch_end(self, epoch, result):\n",
    "      train_loss, val_loss, val_acc = result['train_loss'], result['validation_loss'], result['validation_accuracy']\n",
    "      print(f\"Epoch [{epoch}/{EPOCH_NUMBER}], Training Loss: {train_loss:.4f}, Validation Loss: {val_loss:.4f}, Validation Accuracy: {val_acc:.4f}\")\n",
    "\n",
    "\n",
    "def accuracy(outputs, labels):\n",
    "  _, preds = torch.max(outputs, dim=1)\n",
    "  return torch.tensor(torch.sum(preds == labels).item() / len(preds))"
   ]
  },
  {
   "attachments": {},
   "cell_type": "markdown",
   "metadata": {},
   "source": [
    "**Adding Residual Connection**\n",
    "\n",
    "1. The **residual block** consists of the second convolutional layer **`(conv4)`** and its activation function **`(relu4)`**."
   ]
  },
  {
   "cell_type": "code",
   "execution_count": 5,
   "metadata": {},
   "outputs": [
    {
     "data": {
      "text/plain": [
       "CNNModelResidual(\n",
       "  (conv1): Conv2d(3, 16, kernel_size=(3, 3), stride=(1, 1), padding=(1, 1))\n",
       "  (relu1): ReLU()\n",
       "  (dropout1): Dropout(p=0.8, inplace=False)\n",
       "  (pool): MaxPool2d(kernel_size=2, stride=2, padding=0, dilation=1, ceil_mode=False)\n",
       "  (conv2): Conv2d(16, 32, kernel_size=(3, 3), stride=(1, 1), padding=(1, 1))\n",
       "  (relu2): ReLU()\n",
       "  (dropout2): Dropout(p=0.8, inplace=False)\n",
       "  (conv3): Conv2d(32, 64, kernel_size=(3, 3), stride=(1, 1), padding=(1, 1))\n",
       "  (relu3): ReLU()\n",
       "  (dropout3): Dropout(p=0.8, inplace=False)\n",
       "  (conv4): Conv2d(64, 64, kernel_size=(3, 3), stride=(1, 1), padding=(1, 1))\n",
       "  (relu4): ReLU()\n",
       "  (dropout4): Dropout(p=0.8, inplace=False)\n",
       "  (conv5): Conv2d(64, 128, kernel_size=(3, 3), stride=(1, 1), padding=(1, 1))\n",
       "  (relu5): ReLU()\n",
       "  (dropout5): Dropout(p=0.8, inplace=False)\n",
       "  (conv6): Conv2d(128, 128, kernel_size=(3, 3), stride=(1, 1), padding=(1, 1))\n",
       "  (relu6): ReLU()\n",
       "  (dropout6): Dropout(p=0.8, inplace=False)\n",
       "  (flatten): Flatten(start_dim=1, end_dim=-1)\n",
       "  (connected1): Linear(in_features=524288, out_features=256, bias=True)\n",
       "  (relu7): ReLU()\n",
       "  (dropout7): Dropout(p=0.8, inplace=False)\n",
       "  (connected2): Linear(in_features=256, out_features=128, bias=True)\n",
       "  (relu8): ReLU()\n",
       "  (dropout8): Dropout(p=0.8, inplace=False)\n",
       "  (connected3): Linear(in_features=128, out_features=8, bias=True)\n",
       ")"
      ]
     },
     "execution_count": 5,
     "metadata": {},
     "output_type": "execute_result"
    }
   ],
   "source": [
    "class CNNModelResidual(ImageClassificationModel):\n",
    "    def __init__(self):\n",
    "        super(CNNModelResidual, self).__init__()\n",
    "\n",
    "        self.conv1 = nn.Conv2d(3, 16, kernel_size=3, padding=1)\n",
    "        self.relu1 = nn.ReLU()\n",
    "        self.dropout1 = nn.Dropout(dropout_rate)\n",
    "        self.pool = nn.MaxPool2d(2, 2)\n",
    "\n",
    "        self.conv2 = nn.Conv2d(16, 32, kernel_size=3, stride=1, padding=1)\n",
    "        self.relu2 = nn.ReLU()\n",
    "        self.dropout2 = nn.Dropout(dropout_rate)\n",
    "\n",
    "        self.conv3 = nn.Conv2d(32, 64, kernel_size=3, stride=1, padding=1)\n",
    "        self.relu3 = nn.ReLU()\n",
    "        self.dropout3 = nn.Dropout(dropout_rate)\n",
    "\n",
    "        self.conv4 = nn.Conv2d(64, 64, kernel_size=3, stride=1, padding=1)\n",
    "        self.relu4 = nn.ReLU()\n",
    "        self.dropout4 = nn.Dropout(dropout_rate)\n",
    "\n",
    "        self.conv5 = nn.Conv2d(64, 128, kernel_size=3, stride=1, padding=1)\n",
    "        self.relu5 = nn.ReLU()\n",
    "        self.dropout5 = nn.Dropout(dropout_rate)\n",
    "\n",
    "        self.conv6 = nn.Conv2d(128, 128, kernel_size=3, stride=1, padding=1)\n",
    "        self.relu6 = nn.ReLU()\n",
    "        self.dropout6 = nn.Dropout(dropout_rate)\n",
    "\n",
    "        self.flatten = nn.Flatten()\n",
    "        self.connected1 = nn.Linear(128 * int(TENSOR_SIZE / 2) * int(TENSOR_SIZE / 2), 8)\n",
    "        \n",
    "    def forward(self, value):\n",
    "        # First Conv\n",
    "        out = self.conv1(value)\n",
    "        out = self.relu1(out)\n",
    "        out = self.dropout1(out)\n",
    "        out = self.pool(out)\n",
    "\n",
    "        # Second Conv\n",
    "        out = self.conv2(out)\n",
    "        out = self.relu2(out)\n",
    "        out = self.dropout2(out)\n",
    "\n",
    "        # Third Conv\n",
    "        out = self.conv3(out)\n",
    "        out = self.relu3(out)\n",
    "        out = self.dropout3(out)\n",
    "\n",
    "        # Fourth Conv\n",
    "        res4 = out\n",
    "        out = self.conv4(out)\n",
    "        out = self.relu4(out)\n",
    "        out = self.dropout4(out)\n",
    "        out = out + res4  # Residual connection\n",
    "\n",
    "        # Fifth Conv\n",
    "        out = self.conv5(out)\n",
    "        out = self.relu5(out)\n",
    "        out = self.dropout5(out)\n",
    "\n",
    "        # Sixth Conv\n",
    "        out = self.conv6(out)\n",
    "        out = self.relu6(out)\n",
    "        out = self.dropout6(out)\n",
    "\n",
    "        ## Fully Connected Layers\n",
    "        out = self.flatten(out)\n",
    "        out = self.connected1(out)\n",
    "\n",
    "        return out\n",
    "\n",
    "\n",
    "model = CNNModelResidual()\n",
    "model"
   ]
  },
  {
   "cell_type": "code",
   "execution_count": 6,
   "metadata": {},
   "outputs": [
    {
     "name": "stdout",
     "output_type": "stream",
     "text": [
      "Using CUDA\n"
     ]
    },
    {
     "data": {
      "text/plain": [
       "device(type='cuda')"
      ]
     },
     "execution_count": 6,
     "metadata": {},
     "output_type": "execute_result"
    }
   ],
   "source": [
    "def get_default_device():\n",
    "    if torch.cuda.is_available():\n",
    "        print('Using CUDA')\n",
    "        return torch.device('cuda')\n",
    "    else:\n",
    "        print('Using CPU')\n",
    "        return torch.device('cpu')\n",
    "    \n",
    "def to_device(data, device):\n",
    "    if isinstance(data, (list, tuple)):\n",
    "        return [to_device(x, device) for x in data]\n",
    "    return data.to(device, non_blocking = True)\n",
    "\n",
    "class DeviceDataloader():\n",
    "    def __init__(self, dataloader, device):\n",
    "        self.dataloader = dataloader\n",
    "        self.device = device\n",
    "\n",
    "    def __iter__(self):\n",
    "        for batch in self.dataloader:\n",
    "            yield to_device(batch, self.device)\n",
    "\n",
    "    def __len__(self):\n",
    "        return len(self.dataloader)\n",
    "    \n",
    "device = get_default_device()\n",
    "device"
   ]
  },
  {
   "cell_type": "code",
   "execution_count": 7,
   "metadata": {},
   "outputs": [],
   "source": [
    "train_dataloader = DeviceDataloader(train_dataloader,  device)\n",
    "validation_dataloader = DeviceDataloader(validation_dataloader, device)\n",
    "test_dataloader = DeviceDataloader(test_dataloader, device)"
   ]
  },
  {
   "cell_type": "code",
   "execution_count": 8,
   "metadata": {},
   "outputs": [
    {
     "data": {
      "text/plain": [
       "{'validation_loss': 2.0882840156555176,\n",
       " 'validation_accuracy': 0.0572916679084301}"
      ]
     },
     "execution_count": 8,
     "metadata": {},
     "output_type": "execute_result"
    }
   ],
   "source": [
    "@torch.no_grad()\n",
    "def evaluate(model, validation_loader):\n",
    "    model.eval()\n",
    "    outputs = [model.validation_step(batch) for batch in validation_loader]\n",
    "    return model.validation_epoch_end(outputs)\n",
    "\n",
    "def fit(epochs, lr, model, train_loader, validation_loader, opt_func=torch.optim.SGD):\n",
    "    torch.cuda.empty_cache()\n",
    "    history = []\n",
    "    optimizer = opt_func(model.parameters(), lr)\n",
    "    for epoch in range(epochs):\n",
    "        # Training Phase \n",
    "        model.train()\n",
    "        train_losses = []\n",
    "        for batch in train_loader:\n",
    "            loss = model.training_step(batch)\n",
    "            train_losses.append(loss)\n",
    "            loss.backward()\n",
    "            optimizer.step()\n",
    "            optimizer.zero_grad()\n",
    "        # Validation phase\n",
    "        result = evaluate(model, validation_loader)\n",
    "        result['train_loss'] = torch.stack(train_losses).mean().item()\n",
    "        model.epoch_end(epoch, result)\n",
    "        history.append(result)\n",
    "    return history\n",
    "\n",
    "model = to_device(model, device)\n",
    "evaluate(model, validation_dataloader)"
   ]
  },
  {
   "cell_type": "code",
   "execution_count": 9,
   "metadata": {},
   "outputs": [],
   "source": [
    "num_epochs = EPOCH_NUMBER\n",
    "opt_func = torch.optim.Adam\n",
    "lr = LEARNING_RATE"
   ]
  },
  {
   "cell_type": "code",
   "execution_count": 10,
   "metadata": {},
   "outputs": [
    {
     "name": "stdout",
     "output_type": "stream",
     "text": [
      "Epoch [0/100], Training Loss: 6.2770, Validation Loss: 2.0846, Validation Accuracy: 0.0573\n",
      "Epoch [1/100], Training Loss: 2.0838, Validation Loss: 2.0806, Validation Accuracy: 0.0573\n",
      "Epoch [2/100], Training Loss: 2.0785, Validation Loss: 2.0756, Validation Accuracy: 0.2031\n",
      "Epoch [3/100], Training Loss: 2.0749, Validation Loss: 2.0710, Validation Accuracy: 0.2031\n",
      "Epoch [4/100], Training Loss: 2.0720, Validation Loss: 2.0665, Validation Accuracy: 0.2031\n",
      "Epoch [5/100], Training Loss: 2.0647, Validation Loss: 2.0625, Validation Accuracy: 0.2031\n",
      "Epoch [6/100], Training Loss: 2.0626, Validation Loss: 2.0583, Validation Accuracy: 0.2031\n",
      "Epoch [7/100], Training Loss: 2.0575, Validation Loss: 2.0541, Validation Accuracy: 0.2031\n",
      "Epoch [8/100], Training Loss: 2.0582, Validation Loss: 2.0500, Validation Accuracy: 0.2031\n",
      "Epoch [9/100], Training Loss: 2.0506, Validation Loss: 2.0462, Validation Accuracy: 0.2031\n",
      "Epoch [10/100], Training Loss: 2.0511, Validation Loss: 2.0426, Validation Accuracy: 0.2031\n",
      "Epoch [11/100], Training Loss: 2.0461, Validation Loss: 2.0387, Validation Accuracy: 0.2031\n",
      "Epoch [12/100], Training Loss: 2.0503, Validation Loss: 2.0355, Validation Accuracy: 0.2031\n",
      "Epoch [13/100], Training Loss: 2.0450, Validation Loss: 2.0325, Validation Accuracy: 0.2031\n",
      "Epoch [14/100], Training Loss: 2.0378, Validation Loss: 2.0300, Validation Accuracy: 0.2031\n",
      "Epoch [15/100], Training Loss: 2.0394, Validation Loss: 2.0273, Validation Accuracy: 0.2031\n",
      "Epoch [16/100], Training Loss: 2.0362, Validation Loss: 2.0250, Validation Accuracy: 0.2031\n",
      "Epoch [17/100], Training Loss: 2.0291, Validation Loss: 2.0226, Validation Accuracy: 0.2031\n",
      "Epoch [18/100], Training Loss: 2.0288, Validation Loss: 2.0198, Validation Accuracy: 0.2031\n",
      "Epoch [19/100], Training Loss: 2.0340, Validation Loss: 2.0180, Validation Accuracy: 0.2031\n",
      "Epoch [20/100], Training Loss: 2.0326, Validation Loss: 2.0161, Validation Accuracy: 0.2031\n",
      "Epoch [21/100], Training Loss: 2.0332, Validation Loss: 2.0154, Validation Accuracy: 0.2031\n",
      "Epoch [22/100], Training Loss: 2.0279, Validation Loss: 2.0143, Validation Accuracy: 0.2031\n",
      "Epoch [23/100], Training Loss: 2.0186, Validation Loss: 2.0128, Validation Accuracy: 0.2031\n",
      "Epoch [24/100], Training Loss: 2.0272, Validation Loss: 2.0115, Validation Accuracy: 0.2031\n",
      "Epoch [25/100], Training Loss: 2.0276, Validation Loss: 2.0106, Validation Accuracy: 0.2031\n",
      "Epoch [26/100], Training Loss: 2.0337, Validation Loss: 2.0102, Validation Accuracy: 0.2031\n",
      "Epoch [27/100], Training Loss: 2.0307, Validation Loss: 2.0100, Validation Accuracy: 0.2031\n",
      "Epoch [28/100], Training Loss: 2.0278, Validation Loss: 2.0087, Validation Accuracy: 0.2031\n",
      "Epoch [29/100], Training Loss: 2.0184, Validation Loss: 2.0079, Validation Accuracy: 0.2031\n",
      "Epoch [30/100], Training Loss: 2.0200, Validation Loss: 2.0074, Validation Accuracy: 0.2031\n",
      "Epoch [31/100], Training Loss: 2.0217, Validation Loss: 2.0068, Validation Accuracy: 0.2031\n",
      "Epoch [32/100], Training Loss: 2.0328, Validation Loss: 2.0063, Validation Accuracy: 0.2031\n",
      "Epoch [33/100], Training Loss: 2.0304, Validation Loss: 2.0061, Validation Accuracy: 0.2031\n",
      "Epoch [34/100], Training Loss: 2.0230, Validation Loss: 2.0057, Validation Accuracy: 0.2031\n",
      "Epoch [35/100], Training Loss: 2.0425, Validation Loss: 2.0056, Validation Accuracy: 0.2031\n",
      "Epoch [36/100], Training Loss: 2.0235, Validation Loss: 2.0062, Validation Accuracy: 0.2031\n",
      "Epoch [37/100], Training Loss: 2.0210, Validation Loss: 2.0053, Validation Accuracy: 0.2031\n",
      "Epoch [38/100], Training Loss: 2.0275, Validation Loss: 2.0055, Validation Accuracy: 0.2031\n",
      "Epoch [39/100], Training Loss: 2.0167, Validation Loss: 2.0049, Validation Accuracy: 0.2031\n",
      "Epoch [40/100], Training Loss: 2.0340, Validation Loss: 2.0047, Validation Accuracy: 0.2031\n",
      "Epoch [41/100], Training Loss: 2.0293, Validation Loss: 2.0051, Validation Accuracy: 0.2031\n",
      "Epoch [42/100], Training Loss: 2.0290, Validation Loss: 2.0053, Validation Accuracy: 0.2031\n",
      "Epoch [43/100], Training Loss: 2.0256, Validation Loss: 2.0056, Validation Accuracy: 0.2031\n",
      "Epoch [44/100], Training Loss: 2.0330, Validation Loss: 2.0059, Validation Accuracy: 0.2031\n",
      "Epoch [45/100], Training Loss: 2.0260, Validation Loss: 2.0060, Validation Accuracy: 0.2031\n",
      "Epoch [46/100], Training Loss: 2.0252, Validation Loss: 2.0058, Validation Accuracy: 0.2031\n",
      "Epoch [47/100], Training Loss: 2.0325, Validation Loss: 2.0057, Validation Accuracy: 0.2031\n",
      "Epoch [48/100], Training Loss: 2.0200, Validation Loss: 2.0054, Validation Accuracy: 0.2031\n",
      "Epoch [49/100], Training Loss: 2.0247, Validation Loss: 2.0049, Validation Accuracy: 0.2031\n",
      "Epoch [50/100], Training Loss: 2.0273, Validation Loss: 2.0048, Validation Accuracy: 0.2031\n",
      "Epoch [51/100], Training Loss: 2.0266, Validation Loss: 2.0052, Validation Accuracy: 0.2031\n",
      "Epoch [52/100], Training Loss: 2.0269, Validation Loss: 2.0052, Validation Accuracy: 0.2031\n",
      "Epoch [53/100], Training Loss: 2.0228, Validation Loss: 2.0055, Validation Accuracy: 0.2031\n",
      "Epoch [54/100], Training Loss: 2.0285, Validation Loss: 2.0061, Validation Accuracy: 0.2031\n",
      "Epoch [55/100], Training Loss: 2.0235, Validation Loss: 2.0062, Validation Accuracy: 0.2031\n",
      "Epoch [56/100], Training Loss: 2.0214, Validation Loss: 2.0069, Validation Accuracy: 0.2031\n",
      "Epoch [57/100], Training Loss: 2.0319, Validation Loss: 2.0068, Validation Accuracy: 0.2031\n",
      "Epoch [58/100], Training Loss: 2.0279, Validation Loss: 2.0070, Validation Accuracy: 0.2031\n",
      "Epoch [59/100], Training Loss: 2.0238, Validation Loss: 2.0070, Validation Accuracy: 0.2031\n",
      "Epoch [60/100], Training Loss: 2.0237, Validation Loss: 2.0063, Validation Accuracy: 0.2031\n",
      "Epoch [61/100], Training Loss: 2.0379, Validation Loss: 2.0068, Validation Accuracy: 0.2031\n",
      "Epoch [62/100], Training Loss: 2.0163, Validation Loss: 2.0073, Validation Accuracy: 0.2031\n",
      "Epoch [63/100], Training Loss: 2.0309, Validation Loss: 2.0079, Validation Accuracy: 0.2031\n",
      "Epoch [64/100], Training Loss: 2.0307, Validation Loss: 2.0084, Validation Accuracy: 0.2031\n",
      "Epoch [65/100], Training Loss: 2.0335, Validation Loss: 2.0086, Validation Accuracy: 0.2031\n",
      "Epoch [66/100], Training Loss: 2.0222, Validation Loss: 2.0088, Validation Accuracy: 0.2031\n",
      "Epoch [67/100], Training Loss: 2.0268, Validation Loss: 2.0085, Validation Accuracy: 0.2031\n",
      "Epoch [68/100], Training Loss: 2.0393, Validation Loss: 2.0091, Validation Accuracy: 0.2031\n",
      "Epoch [69/100], Training Loss: 2.0317, Validation Loss: 2.0094, Validation Accuracy: 0.2031\n",
      "Epoch [70/100], Training Loss: 2.0200, Validation Loss: 2.0099, Validation Accuracy: 0.2031\n",
      "Epoch [71/100], Training Loss: 2.0390, Validation Loss: 2.0100, Validation Accuracy: 0.2031\n",
      "Epoch [72/100], Training Loss: 2.0158, Validation Loss: 2.0096, Validation Accuracy: 0.2031\n",
      "Epoch [73/100], Training Loss: 2.0408, Validation Loss: 2.0095, Validation Accuracy: 0.2031\n",
      "Epoch [74/100], Training Loss: 2.0323, Validation Loss: 2.0098, Validation Accuracy: 0.2031\n",
      "Epoch [75/100], Training Loss: 2.0240, Validation Loss: 2.0095, Validation Accuracy: 0.2031\n",
      "Epoch [76/100], Training Loss: 2.0310, Validation Loss: 2.0092, Validation Accuracy: 0.2031\n",
      "Epoch [77/100], Training Loss: 2.0254, Validation Loss: 2.0095, Validation Accuracy: 0.2031\n",
      "Epoch [78/100], Training Loss: 2.0149, Validation Loss: 2.0102, Validation Accuracy: 0.2031\n",
      "Epoch [79/100], Training Loss: 2.0335, Validation Loss: 2.0109, Validation Accuracy: 0.2031\n",
      "Epoch [80/100], Training Loss: 2.0181, Validation Loss: 2.0110, Validation Accuracy: 0.2031\n",
      "Epoch [81/100], Training Loss: 2.0183, Validation Loss: 2.0105, Validation Accuracy: 0.2031\n",
      "Epoch [82/100], Training Loss: 2.0193, Validation Loss: 2.0107, Validation Accuracy: 0.2031\n",
      "Epoch [83/100], Training Loss: 1.9966, Validation Loss: 2.0106, Validation Accuracy: 0.2031\n",
      "Epoch [84/100], Training Loss: 2.0191, Validation Loss: 2.0110, Validation Accuracy: 0.2031\n",
      "Epoch [85/100], Training Loss: 2.0387, Validation Loss: 2.0117, Validation Accuracy: 0.2031\n",
      "Epoch [86/100], Training Loss: 2.0159, Validation Loss: 2.0124, Validation Accuracy: 0.2031\n",
      "Epoch [87/100], Training Loss: 2.0343, Validation Loss: 2.0136, Validation Accuracy: 0.2031\n",
      "Epoch [88/100], Training Loss: 2.0179, Validation Loss: 2.0139, Validation Accuracy: 0.2031\n",
      "Epoch [89/100], Training Loss: 2.0162, Validation Loss: 2.0140, Validation Accuracy: 0.2031\n",
      "Epoch [90/100], Training Loss: 2.0234, Validation Loss: 2.0138, Validation Accuracy: 0.2031\n",
      "Epoch [91/100], Training Loss: 1.9907, Validation Loss: 2.0137, Validation Accuracy: 0.2031\n",
      "Epoch [92/100], Training Loss: 2.0088, Validation Loss: 2.0137, Validation Accuracy: 0.2031\n",
      "Epoch [93/100], Training Loss: 2.0196, Validation Loss: 2.0139, Validation Accuracy: 0.2031\n",
      "Epoch [94/100], Training Loss: 1.9938, Validation Loss: 2.0146, Validation Accuracy: 0.2031\n",
      "Epoch [95/100], Training Loss: 2.0372, Validation Loss: 2.0151, Validation Accuracy: 0.2240\n",
      "Epoch [96/100], Training Loss: 2.0159, Validation Loss: 2.0153, Validation Accuracy: 0.2240\n",
      "Epoch [97/100], Training Loss: 2.0098, Validation Loss: 2.0156, Validation Accuracy: 0.2240\n",
      "Epoch [98/100], Training Loss: 1.9826, Validation Loss: 2.0164, Validation Accuracy: 0.2240\n",
      "Epoch [99/100], Training Loss: 1.9907, Validation Loss: 2.0168, Validation Accuracy: 0.2240\n"
     ]
    }
   ],
   "source": [
    "history = fit(num_epochs, lr, model, train_dataloader, validation_dataloader, opt_func=opt_func)"
   ]
  },
  {
   "cell_type": "code",
   "execution_count": 11,
   "metadata": {},
   "outputs": [
    {
     "data": {
      "image/png": "[encoded data removed]",
      "text/plain": [
       "<Figure size 640x480 with 1 Axes>"
      ]
     },
     "metadata": {},
     "output_type": "display_data"
    }
   ],
   "source": [
    "def plot_accuracies(history):\n",
    "    accuracies = [x['validation_accuracy'] for x in history]\n",
    "    plt.plot(accuracies, '-x')\n",
    "    plt.xlabel('epoch')\n",
    "    plt.ylabel('accuracy')\n",
    "    plt.title('Accuracy vs Number of epochs')\n",
    "\n",
    "plot_accuracies(history)"
   ]
  },
  {
   "cell_type": "code",
   "execution_count": 12,
   "metadata": {},
   "outputs": [
    {
     "data": {
      "image/png": "[encoded data removed]",
      "text/plain": [
       "<Figure size 640x480 with 1 Axes>"
      ]
     },
     "metadata": {},
     "output_type": "display_data"
    }
   ],
   "source": [
    "def plot_losses(history):\n",
    "    train_losses = [x.get('train_loss') for x in history]\n",
    "    val_losses = [x['validation_loss'] for x in history]\n",
    "    plt.plot(train_losses, '-bx')\n",
    "    plt.plot(val_losses, '-rx')\n",
    "    plt.xlabel('epoch')\n",
    "    plt.ylabel('loss')\n",
    "    plt.legend(['Training', 'Validation'])\n",
    "    plt.title('Loss vs Number of epochs')\n",
    "\n",
    "plot_losses(history)"
   ]
  },
  {
   "attachments": {},
   "cell_type": "markdown",
   "metadata": {},
   "source": [
    "The dropout rate `0.8` does not fix the overfitting problem."
   ]
  },
  {
   "cell_type": "code",
   "execution_count": 13,
   "metadata": {},
   "outputs": [
    {
     "data": {
      "text/plain": [
       "{'validation_loss': 2.0390145778656006,\n",
       " 'validation_accuracy': 0.1865498274564743}"
      ]
     },
     "execution_count": 13,
     "metadata": {},
     "output_type": "execute_result"
    }
   ],
   "source": [
    "evaluate(model, test_dataloader)"
   ]
  },
  {
   "attachments": {},
   "cell_type": "markdown",
   "metadata": {},
   "source": [
    "**Test Accuracy**: 18%"
   ]
  },
  {
   "cell_type": "code",
   "execution_count": 14,
   "metadata": {},
   "outputs": [],
   "source": [
    "torch.save(model.state_dict(), 'dropout7_4.pth')"
   ]
  }
 ],
 "metadata": {
  "kernelspec": {
   "display_name": "Python 3",
   "language": "python",
   "name": "python3"
  },
  "language_info": {
   "codemirror_mode": {
    "name": "ipython",
    "version": 3
   },
   "file_extension": ".py",
   "mimetype": "text/x-python",
   "name": "python",
   "nbconvert_exporter": "python",
   "pygments_lexer": "ipython3",
   "version": "3.10.11"
  },
  "orig_nbformat": 4
 },
 "nbformat": 4,
 "nbformat_minor": 2
}
